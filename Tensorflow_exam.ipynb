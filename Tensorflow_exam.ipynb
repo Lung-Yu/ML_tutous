{
 "cells": [
  {
   "cell_type": "code",
   "execution_count": 5,
   "metadata": {
    "collapsed": true
   },
   "outputs": [],
   "source": [
    "import tensorflow as tf\n",
    "import numpy as np\n",
    "from tensorflow.contrib import learn"
   ]
  },
  {
   "cell_type": "code",
   "execution_count": 6,
   "metadata": {},
   "outputs": [],
   "source": [
    "#import a dataset\n",
    "from sklearn import datasets\n",
    "iris = datasets.load_iris()\n",
    "\n",
    "X_DataSet = iris.data\n",
    "Y_DataSet = iris.target\n",
    "\n",
    "\n",
    "# 將資料對半分為測試資料與訓練資料\n",
    "from sklearn.cross_validation import train_test_split\n",
    "X_train,X_test,y_train,y_test = train_test_split(X_DataSet,Y_DataSet,test_size=0.5)"
   ]
  },
  {
   "cell_type": "code",
   "execution_count": 21,
   "metadata": {},
   "outputs": [
    {
     "name": "stdout",
     "output_type": "stream",
     "text": [
      "Successfully downloaded train-images-idx3-ubyte.gz 9912422 bytes.\n",
      "Extracting MNIST_data/train-images-idx3-ubyte.gz\n",
      "Successfully downloaded train-labels-idx1-ubyte.gz 28881 bytes.\n",
      "Extracting MNIST_data/train-labels-idx1-ubyte.gz\n",
      "Successfully downloaded t10k-images-idx3-ubyte.gz 1648877 bytes.\n",
      "Extracting MNIST_data/t10k-images-idx3-ubyte.gz\n",
      "Successfully downloaded t10k-labels-idx1-ubyte.gz 4542 bytes.\n",
      "Extracting MNIST_data/t10k-labels-idx1-ubyte.gz\n"
     ]
    }
   ],
   "source": [
    "#引用函數並且從網路下載mnist 手寫數據庫\n",
    "import tensorflow as tf\n",
    "from tensorflow.examples.tutorials.mnist import input_data\n",
    "# number 1 to 10 data\n",
    "mnist = input_data.read_data_sets('MNIST_data', one_hot=True)"
   ]
  },
  {
   "cell_type": "code",
   "execution_count": 23,
   "metadata": {},
   "outputs": [
    {
     "data": {
      "text/plain": [
       "tensorflow.contrib.learn.python.learn.datasets.base.Datasets"
      ]
     },
     "execution_count": 23,
     "metadata": {},
     "output_type": "execute_result"
    }
   ],
   "source": [
    "type(mnist)"
   ]
  },
  {
   "cell_type": "code",
   "execution_count": 24,
   "metadata": {
    "collapsed": true
   },
   "outputs": [],
   "source": [
    "def compute_accuracy(v_xs, v_ys):\n",
    "    global prediction\n",
    "    y_pre = sess.run(prediction, feed_dict={xs: v_xs, keep_prob: 1})\n",
    "    correct_prediction = tf.equal(tf.argmax(y_pre,1), tf.argmax(v_ys,1))\n",
    "    accuracy = tf.reduce_mean(tf.cast(correct_prediction, tf.float32))\n",
    "    result = sess.run(accuracy, feed_dict={xs: v_xs, ys: v_ys, keep_prob: 1})\n",
    "    return result"
   ]
  },
  {
   "cell_type": "code",
   "execution_count": 26,
   "metadata": {
    "collapsed": true
   },
   "outputs": [],
   "source": [
    "#定義初始化變數 採用normal distribution , 標準差為0.1\n",
    "def weight_variable(shape):\n",
    "    initial = tf.truncated_normal(shape, stddev=0.1)\n",
    "    return tf.Variable(initial)"
   ]
  },
  {
   "cell_type": "code",
   "execution_count": 27,
   "metadata": {
    "collapsed": true
   },
   "outputs": [],
   "source": [
    "#定義初始化變數 採用常數 , 皆為為0.1\n",
    "def bias_variable(shape):\n",
    "    initial = tf.constant(0.1, shape=shape)\n",
    "    return tf.Variable(initial)"
   ]
  },
  {
   "cell_type": "code",
   "execution_count": 28,
   "metadata": {
    "collapsed": true
   },
   "outputs": [],
   "source": [
    "#定義conv 層 layer padding 方法採用\"一樣\"\n",
    "def conv2d(x, W):\n",
    "    # stride [1, x_movement, y_movement, 1]\n",
    "    # Must have strides[0] = strides[3] = 1\n",
    "    return tf.nn.conv2d(x, W, strides=[1, 1, 1, 1], padding='SAME')\n",
    "\n",
    "def max_pool_2x2(x):\n",
    "    # stride [1, x_movement, y_movement, 1]\n",
    "    return tf.nn.max_pool(x, ksize=[1,2,2,1], strides=[1,2,2,1], padding='SAME')\n",
    "\n",
    "def addLayer():\n",
    "    "
   ]
  },
  {
   "cell_type": "code",
   "execution_count": 29,
   "metadata": {
    "collapsed": true
   },
   "outputs": [],
   "source": [
    "# 定義placeholder\n",
    "xs = tf.placeholder(tf.float32, [None, 784]) # 28x28\n",
    "ys = tf.placeholder(tf.float32, [None, 10])\n",
    "keep_prob = tf.placeholder(tf.float32)\n",
    " \n",
    "#將圖片reshape， -1表示會自動算幾組\n",
    "#28,28,1 分別代表寬 高 channel數(像RGB的話這裡就要改3)\n",
    "x_image = tf.reshape(xs, [-1, 28, 28, 1])"
   ]
  },
  {
   "cell_type": "code",
   "execution_count": 30,
   "metadata": {
    "collapsed": true
   },
   "outputs": [],
   "source": [
    "W_conv1 = weight_variable([5,5, 1,32]) # patch 5x5, in size 1, out size 32\n",
    "b_conv1 = bias_variable([32])\n",
    "h_conv1 = tf.nn.relu(conv2d(x_image, W_conv1) + b_conv1) # output size 28x28x32\n",
    "h_pool1 = max_pool_2x2(h_conv1)                                         # output size 14x14x32"
   ]
  },
  {
   "cell_type": "code",
   "execution_count": 31,
   "metadata": {
    "collapsed": true
   },
   "outputs": [],
   "source": [
    "## conv2 layer ##\n",
    "#這裡表示 一張圖訓練出2個filter\n",
    "W_conv2 = weight_variable([5,5, 32, 64]) # patch 5x5, in size 32, out size 64\n",
    "b_conv2 = bias_variable([64])\n",
    "h_conv2 = tf.nn.relu(conv2d(h_pool1, W_conv2) + b_conv2) # output size 14x14x64\n",
    "h_pool2 = max_pool_2x2(h_conv2)                                         # output size 7x7x64"
   ]
  },
  {
   "cell_type": "code",
   "execution_count": 32,
   "metadata": {
    "collapsed": true
   },
   "outputs": [],
   "source": [
    "## func1 layer ##\n",
    "W_fc1 = weight_variable([7*7*64, 1024])\n",
    "b_fc1 = bias_variable([1024])\n",
    "# [n_samples, 7, 7, 64] ->> [n_samples, 7*7*64]"
   ]
  },
  {
   "cell_type": "code",
   "execution_count": 33,
   "metadata": {
    "collapsed": true
   },
   "outputs": [],
   "source": [
    "#這裡將第2層max_pool 過後的神經元 全部攤平\n",
    "h_pool2_flat = tf.reshape(h_pool2, [-1, 7*7*64])\n",
    "h_fc1 = tf.nn.relu(tf.matmul(h_pool2_flat, W_fc1) + b_fc1)\n",
    "h_fc1_drop = tf.nn.dropout(h_fc1, keep_prob)"
   ]
  },
  {
   "cell_type": "code",
   "execution_count": 34,
   "metadata": {
    "collapsed": true
   },
   "outputs": [],
   "source": [
    "## func2 layer ##\n",
    "#倒數第二層為1024個神經元 最後一層為10個神經元 採用softmax當成最後一層的激活函數\n",
    "W_fc2 = weight_variable([1024, 10])\n",
    "b_fc2 = bias_variable([10])\n",
    "prediction = tf.nn.softmax(tf.matmul(h_fc1_drop, W_fc2) + b_fc2)"
   ]
  },
  {
   "cell_type": "code",
   "execution_count": 35,
   "metadata": {
    "collapsed": true
   },
   "outputs": [],
   "source": [
    "# 定義loss function 以及 優化函數\n",
    "cross_entropy = tf.reduce_mean(-tf.reduce_sum(ys * tf.log(prediction),reduction_indices=[1]))# loss\n",
    "train_step = tf.train.AdamOptimizer(1e-4).minimize(cross_entropy)"
   ]
  },
  {
   "cell_type": "code",
   "execution_count": 36,
   "metadata": {},
   "outputs": [
    {
     "name": "stdout",
     "output_type": "stream",
     "text": [
      "WARNING:tensorflow:From <ipython-input-36-c76488e4794e>:2: initialize_all_variables (from tensorflow.python.ops.variables) is deprecated and will be removed after 2017-03-02.\n",
      "Instructions for updating:\n",
      "Use `tf.global_variables_initializer` instead.\n"
     ]
    }
   ],
   "source": [
    "sess = tf.Session()\n",
    "sess.run(tf.initialize_all_variables())"
   ]
  },
  {
   "cell_type": "code",
   "execution_count": 37,
   "metadata": {},
   "outputs": [
    {
     "name": "stdout",
     "output_type": "stream",
     "text": [
      "0.1589\n",
      "0.7525\n",
      "0.8653\n",
      "0.9031\n",
      "0.9222\n",
      "0.9263\n",
      "0.937\n",
      "0.9392\n",
      "0.9465\n",
      "0.9499\n",
      "0.9515\n",
      "0.9563\n",
      "0.958\n",
      "0.959\n",
      "0.9603\n",
      "0.9625\n",
      "0.9645\n",
      "0.9647\n",
      "0.9659\n",
      "0.968\n",
      "0.969\n",
      "0.9702\n",
      "0.9717\n",
      "0.9709\n",
      "0.9714\n",
      "0.973\n",
      "0.9729\n",
      "0.9734\n",
      "0.9725\n",
      "0.9756\n",
      "0.9759\n",
      "0.9766\n",
      "0.9759\n",
      "0.9766\n",
      "0.9768\n",
      "0.979\n",
      "0.9784\n",
      "0.9788\n",
      "0.9795\n",
      "0.9791\n",
      "0.9802\n",
      "0.98\n",
      "0.979\n",
      "0.9794\n",
      "0.9802\n",
      "0.98\n",
      "0.982\n",
      "0.9806\n",
      "0.9815\n",
      "0.9817\n",
      "0.9813\n",
      "0.9816\n",
      "0.9821\n",
      "0.9823\n",
      "0.9814\n",
      "0.9821\n",
      "0.9825\n",
      "0.9827\n",
      "0.9825\n",
      "0.9825\n",
      "0.9827\n",
      "0.982\n",
      "0.9831\n",
      "0.9835\n",
      "0.9831\n",
      "0.9834\n",
      "0.9839\n",
      "0.9843\n",
      "0.9837\n",
      "0.9839\n",
      "0.9841\n",
      "0.9852\n",
      "0.9851\n",
      "0.9865\n",
      "0.9856\n",
      "0.9859\n",
      "0.9847\n",
      "0.9865\n",
      "0.9848\n",
      "0.986\n",
      "0.9865\n",
      "0.9859\n",
      "0.9857\n",
      "0.9863\n",
      "0.9859\n",
      "0.9864\n",
      "0.9876\n",
      "0.9855\n",
      "0.9867\n",
      "0.9865\n",
      "0.9863\n",
      "0.985\n",
      "0.9866\n",
      "0.9872\n",
      "0.9867\n",
      "0.9865\n",
      "0.9867\n",
      "0.9878\n",
      "0.9869\n",
      "0.9872\n",
      "0.9874\n",
      "0.9873\n",
      "0.9869\n",
      "0.9882\n",
      "0.9876\n",
      "0.9887\n",
      "0.9878\n",
      "0.988\n",
      "0.9879\n",
      "0.9878\n",
      "0.9884\n",
      "0.9877\n",
      "0.9888\n",
      "0.9898\n",
      "0.9897\n",
      "0.9887\n",
      "0.9876\n",
      "0.9886\n",
      "0.9894\n",
      "0.9877\n",
      "0.9888\n",
      "0.9888\n",
      "0.9893\n",
      "0.9898\n",
      "0.9884\n",
      "0.9894\n",
      "0.9884\n",
      "0.9884\n",
      "0.9893\n",
      "0.9892\n",
      "0.9902\n",
      "0.9891\n",
      "0.9894\n",
      "0.9884\n",
      "0.989\n",
      "0.9895\n",
      "0.9899\n",
      "0.9893\n",
      "0.99\n",
      "0.9885\n",
      "0.9893\n",
      "0.9887\n",
      "0.9901\n",
      "0.9887\n",
      "0.9903\n",
      "0.9903\n",
      "0.9901\n",
      "0.99\n",
      "0.9907\n",
      "0.99\n",
      "0.9907\n",
      "0.9902\n",
      "0.989\n",
      "0.9907\n",
      "0.9907\n",
      "0.9896\n",
      "0.989\n",
      "0.9896\n",
      "0.9895\n",
      "0.9905\n",
      "0.9906\n",
      "0.9908\n",
      "0.9916\n",
      "0.9899\n",
      "0.9906\n",
      "0.9909\n",
      "0.9911\n",
      "0.9904\n",
      "0.9909\n",
      "0.9908\n",
      "0.9913\n",
      "0.9903\n",
      "0.9911\n",
      "0.9913\n",
      "0.9904\n",
      "0.9899\n",
      "0.9905\n",
      "0.9906\n",
      "0.9906\n",
      "0.9913\n",
      "0.9902\n",
      "0.9907\n",
      "0.9902\n",
      "0.991\n",
      "0.9909\n",
      "0.9914\n",
      "0.9899\n",
      "0.9904\n",
      "0.9906\n",
      "0.9912\n",
      "0.9911\n",
      "0.9905\n",
      "0.9901\n",
      "0.9908\n",
      "0.9912\n",
      "0.9916\n",
      "0.991\n",
      "0.992\n",
      "0.9914\n",
      "0.9916\n"
     ]
    }
   ],
   "source": [
    "for i in range(10000):\n",
    "    batch_xs, batch_ys = mnist.train.next_batch(100)\n",
    "    sess.run(train_step, feed_dict={xs: batch_xs, ys: batch_ys, keep_prob: 0.5})\n",
    "    if i % 50 == 0:\n",
    "        print(compute_accuracy(mnist.test.images, mnist.test.labels))"
   ]
  },
  {
   "cell_type": "code",
   "execution_count": 38,
   "metadata": {},
   "outputs": [
    {
     "name": "stdout",
     "output_type": "stream",
     "text": [
      "Successfully downloaded train-images-idx3-ubyte.gz 9912422 bytes.\n",
      "Extracting /tmp/data/train-images-idx3-ubyte.gz\n",
      "Successfully downloaded train-labels-idx1-ubyte.gz 28881 bytes.\n",
      "Extracting /tmp/data/train-labels-idx1-ubyte.gz\n",
      "Successfully downloaded t10k-images-idx3-ubyte.gz 1648877 bytes.\n",
      "Extracting /tmp/data/t10k-images-idx3-ubyte.gz\n",
      "Successfully downloaded t10k-labels-idx1-ubyte.gz 4542 bytes.\n",
      "Extracting /tmp/data/t10k-labels-idx1-ubyte.gz\n",
      "Epoch: 0001 cost= 159.594938280\n",
      "Epoch: 0002 cost= 38.621783607\n",
      "Epoch: 0003 cost= 24.242011900\n",
      "Epoch: 0004 cost= 16.796065597\n",
      "Epoch: 0005 cost= 12.332510023\n",
      "Epoch: 0006 cost= 8.984521093\n",
      "Epoch: 0007 cost= 6.813522672\n",
      "Epoch: 0008 cost= 5.197557647\n",
      "Epoch: 0009 cost= 3.899173563\n",
      "Epoch: 0010 cost= 3.038913911\n",
      "Epoch: 0011 cost= 2.113054559\n",
      "Epoch: 0012 cost= 1.752517613\n",
      "Epoch: 0013 cost= 1.255295624\n",
      "Epoch: 0014 cost= 1.080606135\n",
      "Epoch: 0015 cost= 0.750338274\n",
      "Optimization Finished!\n",
      "Accuracy: 0.9488\n"
     ]
    }
   ],
   "source": [
    "'''\n",
    "A Multilayer Perceptron implementation example using TensorFlow library.\n",
    "This example is using the MNIST database of handwritten digits\n",
    "(http://yann.lecun.com/exdb/mnist/)\n",
    "Author: Aymeric Damien\n",
    "Project: https://github.com/aymericdamien/TensorFlow-Examples/\n",
    "'''\n",
    "\n",
    "from __future__ import print_function\n",
    "\n",
    "# Import MNIST data\n",
    "from tensorflow.examples.tutorials.mnist import input_data\n",
    "mnist = input_data.read_data_sets(\"/tmp/data/\", one_hot=True)\n",
    "\n",
    "import tensorflow as tf\n",
    "\n",
    "# Parameters\n",
    "learning_rate = 0.001\n",
    "training_epochs = 15\n",
    "batch_size = 100\n",
    "display_step = 1\n",
    "\n",
    "# Network Parameters\n",
    "n_hidden_1 = 256 # 1st layer number of features\n",
    "n_hidden_2 = 256 # 2nd layer number of features\n",
    "n_input = 784 # MNIST data input (img shape: 28*28)\n",
    "n_classes = 10 # MNIST total classes (0-9 digits)\n",
    "\n",
    "# tf Graph input\n",
    "x = tf.placeholder(\"float\", [None, n_input])\n",
    "y = tf.placeholder(\"float\", [None, n_classes])\n",
    "\n",
    "\n",
    "# Create model\n",
    "def multilayer_perceptron(x, weights, biases):\n",
    "    # Hidden layer with RELU activation\n",
    "    layer_1 = tf.add(tf.matmul(x, weights['h1']), biases['b1'])\n",
    "    layer_1 = tf.nn.relu(layer_1)\n",
    "    # Hidden layer with RELU activation\n",
    "    layer_2 = tf.add(tf.matmul(layer_1, weights['h2']), biases['b2'])\n",
    "    layer_2 = tf.nn.relu(layer_2)\n",
    "    # Output layer with linear activation\n",
    "    out_layer = tf.matmul(layer_2, weights['out']) + biases['out']\n",
    "    return out_layer\n",
    "\n",
    "# Store layers weight & bias\n",
    "weights = {\n",
    "    'h1': tf.Variable(tf.random_normal([n_input, n_hidden_1])),\n",
    "    'h2': tf.Variable(tf.random_normal([n_hidden_1, n_hidden_2])),\n",
    "    'out': tf.Variable(tf.random_normal([n_hidden_2, n_classes]))\n",
    "}\n",
    "biases = {\n",
    "    'b1': tf.Variable(tf.random_normal([n_hidden_1])),\n",
    "    'b2': tf.Variable(tf.random_normal([n_hidden_2])),\n",
    "    'out': tf.Variable(tf.random_normal([n_classes]))\n",
    "}\n",
    "\n",
    "# Construct model\n",
    "pred = multilayer_perceptron(x, weights, biases)\n",
    "\n",
    "# Define loss and optimizer\n",
    "cost = tf.reduce_mean(tf.nn.softmax_cross_entropy_with_logits(logits=pred, labels=y))\n",
    "optimizer = tf.train.AdamOptimizer(learning_rate=learning_rate).minimize(cost)\n",
    "\n",
    "# Initializing the variables\n",
    "init = tf.global_variables_initializer()\n",
    "\n",
    "# Launch the graph\n",
    "with tf.Session() as sess:\n",
    "    sess.run(init)\n",
    "\n",
    "    # Training cycle\n",
    "    for epoch in range(training_epochs):\n",
    "        avg_cost = 0.\n",
    "        total_batch = int(mnist.train.num_examples/batch_size)\n",
    "        # Loop over all batches\n",
    "        for i in range(total_batch):\n",
    "            batch_x, batch_y = mnist.train.next_batch(batch_size)\n",
    "            # Run optimization op (backprop) and cost op (to get loss value)\n",
    "            _, c = sess.run([optimizer, cost], feed_dict={x: batch_x,\n",
    "                                                          y: batch_y})\n",
    "            # Compute average loss\n",
    "            avg_cost += c / total_batch\n",
    "        # Display logs per epoch step\n",
    "        if epoch % display_step == 0:\n",
    "            print(\"Epoch:\", '%04d' % (epoch+1), \"cost=\", \\\n",
    "                \"{:.9f}\".format(avg_cost))\n",
    "    print(\"Optimization Finished!\")\n",
    "\n",
    "    # Test model\n",
    "    correct_prediction = tf.equal(tf.argmax(pred, 1), tf.argmax(y, 1))\n",
    "    # Calculate accuracy\n",
    "    accuracy = tf.reduce_mean(tf.cast(correct_prediction, \"float\"))\n",
    "    print(\"Accuracy:\", accuracy.eval({x: mnist.test.images, y: mnist.test.labels}))"
   ]
  },
  {
   "cell_type": "code",
   "execution_count": null,
   "metadata": {
    "collapsed": true
   },
   "outputs": [],
   "source": []
  }
 ],
 "metadata": {
  "kernelspec": {
   "display_name": "Python 2",
   "language": "python",
   "name": "python2"
  },
  "language_info": {
   "codemirror_mode": {
    "name": "ipython",
    "version": 2
   },
   "file_extension": ".py",
   "mimetype": "text/x-python",
   "name": "python",
   "nbconvert_exporter": "python",
   "pygments_lexer": "ipython2",
   "version": "2.7.12+"
  }
 },
 "nbformat": 4,
 "nbformat_minor": 2
}
